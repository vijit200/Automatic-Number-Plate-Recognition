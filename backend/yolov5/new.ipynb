{
 "cells": [
  {
   "cell_type": "code",
   "execution_count": 1,
   "metadata": {},
   "outputs": [
    {
     "data": {
      "text/plain": [
       "1"
      ]
     },
     "execution_count": 1,
     "metadata": {},
     "output_type": "execute_result"
    }
   ],
   "source": [
    "import os\n",
    "\n",
    "os.system('python detect.py --weights best.pt --img 416 --conf 0.5 --source datasset-car.jpg')"
   ]
  },
  {
   "cell_type": "code",
   "execution_count": null,
   "metadata": {},
   "outputs": [],
   "source": [
    "import requests\n",
    "\n",
    "def ocr_space_image(image_path, api_key, language='eng'):\n",
    "    \"\"\"\n",
    "    Use OCR.Space API to extract text from an image.\n",
    "    \n",
    "    :param image_path: Path to the image file to be OCR'd\n",
    "    :param api_key: OCR.Space API key\n",
    "    :param language: Language code to use in OCR (default is 'eng')\n",
    "    :return: Extracted text from the image\n",
    "    \"\"\"\n",
    "    url = 'https://api.ocr.space/parse/image'\n",
    "    \n",
    "    # Open the image file in binary mode\n",
    "    with open(image_path, 'rb') as image_file:\n",
    "        # Set up the payload with the image file and API key\n",
    "        payload = {\n",
    "            'apikey': api_key,\n",
    "            'language': language,\n",
    "        }\n",
    "        files = {\n",
    "            'file': image_file,\n",
    "        }\n",
    "        # Make the request to OCR.Space API\n",
    "        response = requests.post(url, data=payload, files=files)\n",
    "        \n",
    "        # Parse the JSON response\n",
    "        result = response.json()\n",
    "        \n",
    "        # Extract the text if OCR was successful\n",
    "        if result['IsErroredOnProcessing'] == False:\n",
    "            return result['ParsedResults'][0]['ParsedText']\n",
    "        else:\n",
    "            return 'Error: ' + result['ErrorMessage'][0]\n",
    "\n",
    "# Example usage:\n",
    "api_key = 'your_api_key_here'  # Replace with your actual OCR.Space API key\n",
    "image_path = 'path_to_your_image.jpg'  # Replace with your actual image path\n",
    "\n",
    "# Call the function and print the OCR result\n",
    "text = ocr_space_image(image_path, api_key)\n",
    "print(text)"
   ]
  },
  {
   "cell_type": "code",
   "execution_count": 1,
   "metadata": {},
   "outputs": [
    {
     "name": "stdout",
     "output_type": "stream",
     "text": [
      "hi\n"
     ]
    }
   ],
   "source": [
    "print(\"hi\")"
   ]
  },
  {
   "cell_type": "code",
   "execution_count": null,
   "metadata": {},
   "outputs": [],
   "source": []
  },
  {
   "cell_type": "code",
   "execution_count": null,
   "metadata": {},
   "outputs": [],
   "source": []
  },
  {
   "cell_type": "code",
   "execution_count": null,
   "metadata": {},
   "outputs": [],
   "source": []
  },
  {
   "cell_type": "code",
   "execution_count": null,
   "metadata": {},
   "outputs": [],
   "source": []
  }
 ],
 "metadata": {
  "kernelspec": {
   "display_name": "anpr",
   "language": "python",
   "name": "python3"
  },
  "language_info": {
   "codemirror_mode": {
    "name": "ipython",
    "version": 3
   },
   "file_extension": ".py",
   "mimetype": "text/x-python",
   "name": "python",
   "nbconvert_exporter": "python",
   "pygments_lexer": "ipython3",
   "version": "3.8.0"
  }
 },
 "nbformat": 4,
 "nbformat_minor": 2
}
